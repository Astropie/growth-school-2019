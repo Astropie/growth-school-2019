{
 "cells": [
  {
   "cell_type": "markdown",
   "metadata": {},
   "source": [
    "# Gravitational Wave Localizations and Galaxy Crossmatch Module\n",
    "\n",
    "**Lecturer:** Leo Singer<br>\n",
    "**Jupyter Notebook Authors:** Leo Singer, Dave Cook, Shreya Anand & Cameron Hummels\n",
    "\n",
    "This is a Jupyter notebook lesson taken from the GROWTH Summer School 2019.  For other lessons and their accompanying lectures, please see: http://growth.caltech.edu/growth-school-2019.html\n",
    "## Objective\n",
    "Learn how to use LIGO/Virgo localizations and match with galaxies\n",
    "\n",
    "## Key steps\n",
    "- Manipulate HEALPix localization files\n",
    "- Cross-match a LIGO localization with a galaxy catalog\n",
    "\n",
    "## Required dependencies\n",
    "\n",
    "See GROWTH school webpage for detailed instructions on how to install these modules and packages.  Nominally, you should be able to install the python modules with `pip install <module>`.  The external astromatic packages are easiest installed using package managers (e.g., `rpm`, `apt-get`).\n",
    "\n",
    "### Python modules\n",
    "* python 3\n",
    "* astropy\n",
    "* numpy\n",
    "* scipy\n",
    "* matplotlib\n",
    "* healpy\n",
    "* ligo.skymap\n",
    "\n",
    "### External packages\n",
    "None"
   ]
  },
  {
   "cell_type": "markdown",
   "metadata": {},
   "source": [
    "## Imports"
   ]
  },
  {
   "cell_type": "markdown",
   "metadata": {},
   "source": [
    "First, some imports: Numpy, Matplotlib, Healpy, and parts of Astropy."
   ]
  },
  {
   "cell_type": "code",
   "execution_count": 1,
   "metadata": {},
   "outputs": [],
   "source": [
    "import astropy.utils.data\n",
    "from matplotlib import pyplot as plt\n",
    "import numpy as np\n",
    "import healpy as hp"
   ]
  },
  {
   "cell_type": "markdown",
   "metadata": {},
   "source": [
    "Here are some extra imports for the galaxy cross matching:"
   ]
  },
  {
   "cell_type": "code",
   "execution_count": 2,
   "metadata": {},
   "outputs": [],
   "source": [
    "from astropy.table import Table, vstack, hstack, Column\n",
    "import astropy.units as u\n",
    "from astropy.coordinates import SkyCoord\n",
    "import ligo.skymap.plot\n",
    "from scipy.stats import norm\n",
    "import scipy.stats"
   ]
  },
  {
   "cell_type": "markdown",
   "metadata": {},
   "source": [
    "And configure Matplotlib to send plot output directly to the notebook:"
   ]
  },
  {
   "cell_type": "code",
   "execution_count": 3,
   "metadata": {},
   "outputs": [],
   "source": [
    "%matplotlib inline"
   ]
  },
  {
   "cell_type": "markdown",
   "metadata": {},
   "source": [
    "## HEALPix Basics\n",
    "\n",
    "This section on using HEALPix localization files is adapted from the [LIGO/Virgo Public Alerts User Guide](https://emfollow.docs.ligo.org/userguide/tutorial/skymaps.html)."
   ]
  },
  {
   "cell_type": "markdown",
   "metadata": {},
   "source": [
    "### Download and read localization"
   ]
  },
  {
   "cell_type": "markdown",
   "metadata": {},
   "source": [
    "Let's start by downloading a sample localization file from the User Guide. We could do this on the command line using `curl`:\n",
    "\n",
    "    $ curl -O https://emfollow.docs.ligo.org/userguide/_static/bayestar.fits.gz\n",
    "\n",
    "But after all, this is a Python lesson, so let's download the file using the handy `astropy.utils.data.download_file` function from Astropy."
   ]
  },
  {
   "cell_type": "code",
   "execution_count": 4,
   "metadata": {},
   "outputs": [],
   "source": [
    "url = 'https://emfollow.docs.ligo.org/userguide/_static/bayestar.fits.gz'\n",
    "filename = astropy.utils.data.download_file(url)"
   ]
  },
  {
   "cell_type": "markdown",
   "metadata": {},
   "source": [
    "Next, let's read in the HEALPix data using Healpy. Note that by default, Healpy only reads the first column, which provides the 2D probability distribution on the sky."
   ]
  },
  {
   "cell_type": "code",
   "execution_count": 5,
   "metadata": {},
   "outputs": [
    {
     "name": "stdout",
     "output_type": "stream",
     "text": [
      "NSIDE = 2048\n",
      "ORDERING = NESTED in fits file\n",
      "INDXSCHM = IMPLICIT\n",
      "Ordering converted to RING\n"
     ]
    }
   ],
   "source": [
    "prob = hp.read_map(filename)"
   ]
  },
  {
   "cell_type": "markdown",
   "metadata": {},
   "source": [
    "### Manipulating HEALPix Coordinates"
   ]
  },
  {
   "cell_type": "markdown",
   "metadata": {},
   "source": [
    "To get a quick look at a HEALPix data set, you can use the `hp.mollview` function:"
   ]
  },
  {
   "cell_type": "code",
   "execution_count": 6,
   "metadata": {},
   "outputs": [
    {
     "data": {
      "image/png": "[encoded data removed]",
      "text/plain": [
       "<Figure size 612x388.8 with 2 Axes>"
      ]
     },
     "metadata": {
      "needs_background": "light"
     },
     "output_type": "display_data"
    }
   ],
   "source": [
    "hp.mollview(prob)"
   ]
  },
  {
   "cell_type": "markdown",
   "metadata": {},
   "source": [
    "What actually is stored in `prob`?"
   ]
  },
  {
   "cell_type": "code",
   "execution_count": 7,
   "metadata": {},
   "outputs": [
    {
     "data": {
      "text/plain": [
       "array([2.70726059e-66, 1.27374324e-66, 2.62611513e-67, ...,\n",
       "       2.04700874e-40, 1.05781210e-35, 4.44174764e-31])"
      ]
     },
     "execution_count": 7,
     "metadata": {},
     "output_type": "execute_result"
    }
   ],
   "source": [
    "prob"
   ]
  },
  {
   "cell_type": "markdown",
   "metadata": {},
   "source": [
    "It's a one-dimensional array! Yet it represents in 2D image. How does that work? HEALPix is a way to *index* equal-area regions on the unit sphere using integers.\n",
    "\n",
    "To decode HEALPix indices, you need to know the resolution of the map, which is described by a parameter called `nside`. `nside` is the number of subdivisions of 12 base HEALPix tiles, so the relation between the length of a HEALPix array, `npix`, and its resolution, `nside`, is\n",
    "\n",
    "$$\n",
    "    \\mathsf{npix} = 12 \\cdot \\mathsf{nside}^2.\n",
    "$$\n",
    "\n",
    "The functions `hp.npix2nside` and `hp.nside2npix` convert between length and resolution."
   ]
  },
  {
   "cell_type": "code",
   "execution_count": 8,
   "metadata": {},
   "outputs": [
    {
     "data": {
      "text/plain": [
       "50331648"
      ]
     },
     "execution_count": 8,
     "metadata": {},
     "output_type": "execute_result"
    }
   ],
   "source": [
    "npix = len(prob)\n",
    "npix"
   ]
  },
  {
   "cell_type": "code",
   "execution_count": 9,
   "metadata": {},
   "outputs": [
    {
     "data": {
      "text/plain": [
       "2048"
      ]
     },
     "execution_count": 9,
     "metadata": {},
     "output_type": "execute_result"
    }
   ],
   "source": [
    "nside = hp.npix2nside(npix)\n",
    "nside"
   ]
  },
  {
   "cell_type": "markdown",
   "metadata": {},
   "source": [
    "The function `hp.pix2ang` allow us to convert from (ra, dec) and HEALPix pixel index.\n",
    "\n",
    "*Note*: by default, these functions return 'physics' spherical coordinates $(\\theta, \\phi)$ in radians, but you can switch to 'astronomy' spherical coordinates in degrees by passing the keyword argument `lonlat=True`.\n",
    "\n",
    "Let's look up the right asce3nsion and declination of pixel 123."
   ]
  },
  {
   "cell_type": "code",
   "execution_count": 10,
   "metadata": {},
   "outputs": [
    {
     "data": {
      "text/plain": [
       "(129.375, 89.81725848475484)"
      ]
     },
     "execution_count": 10,
     "metadata": {},
     "output_type": "execute_result"
    }
   ],
   "source": [
    "ipix = 123\n",
    "ra, dec = hp.pix2ang(nside, ipix, lonlat=True)\n",
    "ra, dec"
   ]
  },
  {
   "cell_type": "markdown",
   "metadata": {},
   "source": [
    "The function `hp.ang2pix` does the opposite. Let's find the pixel that contains the point RA=194.95, Dec=27.98."
   ]
  },
  {
   "cell_type": "code",
   "execution_count": 11,
   "metadata": {},
   "outputs": [
    {
     "data": {
      "text/plain": [
       "13361492"
      ]
     },
     "execution_count": 11,
     "metadata": {},
     "output_type": "execute_result"
    }
   ],
   "source": [
    "ra = 194.95\n",
    "dec = 27.98\n",
    "hp.ang2pix(nside, ra, dec, lonlat=True)"
   ]
  },
  {
   "cell_type": "markdown",
   "metadata": {},
   "source": [
    "What is the most probable sky location? Just find the pixel with the maximum value, and then find its right ascension and declination."
   ]
  },
  {
   "cell_type": "code",
   "execution_count": 12,
   "metadata": {},
   "outputs": [
    {
     "data": {
      "text/plain": [
       "32883013"
      ]
     },
     "execution_count": 12,
     "metadata": {},
     "output_type": "execute_result"
    }
   ],
   "source": [
    "ipix_max = np.argmax(prob)\n",
    "ipix_max"
   ]
  },
  {
   "cell_type": "code",
   "execution_count": 13,
   "metadata": {},
   "outputs": [
    {
     "data": {
      "text/plain": [
       "(194.30419921875, -17.856895095545454)"
      ]
     },
     "execution_count": 13,
     "metadata": {},
     "output_type": "execute_result"
    }
   ],
   "source": [
    "hp.pix2ang(nside, ipix_max, lonlat=True)"
   ]
  },
  {
   "cell_type": "markdown",
   "metadata": {},
   "source": [
    "## Probability distributions with scipy.stats"
   ]
  },
  {
   "cell_type": "markdown",
   "metadata": {},
   "source": [
    "Finding the most probable sky location within a HEALPix map involves knowing which pixels correspond to a certain probability contour (say, 90%).  We can gain insight into how these probability contours are calculated using scipy.stats.  Scipy provides a \"t\" distribution class that we can use to get values from the \"t\" statistic probability density function (PDF). As a start, we plot the PDF for a \"t\" statistic with 3 degrees of freedom:"
   ]
  },
  {
   "cell_type": "code",
   "execution_count": 14,
   "metadata": {},
   "outputs": [
    {
     "data": {
      "image/png": "[encoded data removed]",
      "text/plain": [
       "<Figure size 432x288 with 1 Axes>"
      ]
     },
     "metadata": {
      "needs_background": "light"
     },
     "output_type": "display_data"
    }
   ],
   "source": [
    "t_dist = scipy.stats.t(3)\n",
    "t_values = np.linspace(-4, 4, 1000)\n",
    "plt.plot(t_values, t_dist.pdf(t_values))\n",
    "plt.xlabel('t value')\n",
    "plt.ylabel('probability for t value')\n",
    "plt.show()"
   ]
  },
  {
   "cell_type": "markdown",
   "metadata": {},
   "source": [
    "The t distribution object t_dist can also give us the cumulative distribution function (CDF). The CDF gives the area under the curve of the PDF at and to the left of the given t value:"
   ]
  },
  {
   "cell_type": "code",
   "execution_count": 15,
   "metadata": {},
   "outputs": [
    {
     "data": {
      "image/png": "[encoded data removed]",
      "text/plain": [
       "<Figure size 432x288 with 1 Axes>"
      ]
     },
     "metadata": {
      "needs_background": "light"
     },
     "output_type": "display_data"
    }
   ],
   "source": [
    "plt.plot(t_values, t_dist.cdf(t_values))\n",
    "plt.xlabel('t value')\n",
    "plt.ylabel('probability for t value <= t')\n",
    "plt.title('CDF for t distribution')\n",
    "plt.show()"
   ]
  },
  {
   "cell_type": "markdown",
   "metadata": {},
   "source": [
    "Say I have a t value x drawn from a t distribution. The PDF gives the probability for given values of x. Because it is a probability density, the sum of the probabilities of all possible values for x: ∞<x<∞ must be 1. Therefore the total area under the PDF curve is 1, and the maximum value of the CDF is 1.\n",
    "\n",
    "The CDF gives us the area under the PDF curve at and to the left of a given t value x. Therefore it is the probability that we will observe a value x<=t if we sample a value x from a t distribution.\n",
    "\n",
    "Let's show relationship of PDF and CDF for three example t values."
   ]
  },
  {
   "cell_type": "code",
   "execution_count": 16,
   "metadata": {},
   "outputs": [
    {
     "data": {
      "image/png": "[encoded data removed]",
      "text/plain": [
       "<Figure size 720x432 with 6 Axes>"
      ]
     },
     "metadata": {
      "needs_background": "light"
     },
     "output_type": "display_data"
    }
   ],
   "source": [
    "example_values = (-1.5, 0, 1.5)\n",
    "pdf_values = t_dist.pdf(t_values)\n",
    "cdf_values = t_dist.cdf(t_values)\n",
    "fill_color = (0, 0, 0, 0.1)  # Light gray in RGBA format.\n",
    "line_color = (0, 0, 0, 0.5)  # Medium gray in RGBA format.\n",
    "fig, axes = plt.subplots(2, len(example_values), figsize=(10, 6))\n",
    "for i, x in enumerate(example_values):\n",
    "    cdf_ax, pdf_ax = axes[:, i]\n",
    "    cdf_ax.plot(t_values, cdf_values)\n",
    "    pdf_ax.plot(t_values, pdf_values)\n",
    "    # Fill area at and to the left of x.\n",
    "    pdf_ax.fill_between(t_values, pdf_values,\n",
    "                        where=t_values <= x,\n",
    "                        color=fill_color)\n",
    "    pd = t_dist.pdf(x)  # Probability density at this value.\n",
    "    # Line showing position of x on x-axis of PDF plot.\n",
    "    pdf_ax.plot([x, x],\n",
    "                [0, pd], color=line_color)\n",
    "    cd = t_dist.cdf(x)  # Cumulative distribution value for this x.\n",
    "    # Lines showing x and CDF value on CDF plot.\n",
    "    x_ax_min = cdf_ax.axis()[0]  # x position of y axis on plot.\n",
    "    cdf_ax.plot([x, x, x_ax_min],\n",
    "                [0, cd, cd], color=line_color)\n",
    "    cdf_ax.set_title('x = {:.1f}, area = {:.2f}'.format(x, cd))\n",
    "    # Hide top and right axis lines and ticks to reduce clutter.\n",
    "    for ax in (cdf_ax, pdf_ax):\n",
    "        ax.spines['right'].set_visible(False)\n",
    "        ax.spines['top'].set_visible(False)\n",
    "        ax.yaxis.set_ticks_position('left')\n",
    "        ax.xaxis.set_ticks_position('bottom')"
   ]
  },
  {
   "cell_type": "markdown",
   "metadata": {},
   "source": [
    "For example, say I have drawn a t value x at random from a t distribution. The probability that x<=1.5 is (i.e., >0.9253):"
   ]
  },
  {
   "cell_type": "code",
   "execution_count": 17,
   "metadata": {},
   "outputs": [
    {
     "data": {
      "text/plain": [
       "0.8847080673775886"
      ]
     },
     "execution_count": 17,
     "metadata": {},
     "output_type": "execute_result"
    }
   ],
   "source": [
    "t_dist.cdf(1.5)"
   ]
  },
  {
   "cell_type": "markdown",
   "metadata": {},
   "source": [
    "The total area under the PDF is 1, and the maximum value for the CDF is 1. Therefore the area of the PDF to the right of 1.5 must be (i.e., >0.0746):"
   ]
  },
  {
   "cell_type": "code",
   "execution_count": 18,
   "metadata": {},
   "outputs": [
    {
     "data": {
      "text/plain": [
       "0.11529193262241144"
      ]
     },
     "execution_count": 18,
     "metadata": {},
     "output_type": "execute_result"
    }
   ],
   "source": [
    "1 - t_dist.cdf(1.5)"
   ]
  },
  {
   "cell_type": "markdown",
   "metadata": {},
   "source": [
    "This is the probability that our t value x will be >1.5. In general, when we sample a value x at random from a t distribution, the probability that x>q is given by:\n",
    "\n",
    "ℙ(x>q)=1−CDF(q), where CDF is the cumulative distribution function for a t value. We can apply the same methodology to HEALpix pixel probabilities in LIGO/VIRGO localization maps. "
   ]
  },
  {
   "cell_type": "markdown",
   "metadata": {},
   "source": [
    "## Working with LIGO/Virgo 3D localizations and Cross-Matching to Galaxy Catalogs"
   ]
  },
  {
   "cell_type": "markdown",
   "metadata": {},
   "source": [
    "First, let's get our galaxy catalog that we will later match to the 3D localization of GW170817.\n",
    "\n",
    "For this Section we will use a galaxy catalog from the CLU project (Census of the Local Universe; paper: https://ui.adsabs.harvard.edu/abs/2017arXiv171005016C/abstract). However, we will only use those galaxies that are publically availble and in NED (NASA/IPAC Extragalactic Database: https://ned.ipac.caltech.edu/). This catalog has already been prepared for you."
   ]
  },
  {
   "cell_type": "markdown",
   "metadata": {},
   "source": [
    "load CLU catalog into astropy table."
   ]
  },
  {
   "cell_type": "code",
   "execution_count": 19,
   "metadata": {},
   "outputs": [],
   "source": [
    "clu=Table.read('data/CLU_NEDonly.fits')\n",
    "nclu=np.size(clu)"
   ]
  },
  {
   "cell_type": "markdown",
   "metadata": {},
   "source": [
    "Add probability columns to the galaxy catalog: probability density and p-value per volume and per area."
   ]
  },
  {
   "cell_type": "code",
   "execution_count": 20,
   "metadata": {},
   "outputs": [],
   "source": [
    "probdencol=Column(np.zeros(nclu,dtype='f4'),name='dP_dV')\n",
    "probcol=Column(np.zeros(nclu,dtype='f4'),name='P')\n",
    "probdenAcol=Column(np.zeros(nclu,dtype='f4'),name='dP_dA')\n",
    "probAcol=Column(np.zeros(nclu,dtype='f4'),name='P_A')\n",
    "clu.add_columns([probdencol,probcol,probdenAcol,probAcol])"
   ]
  },
  {
   "cell_type": "markdown",
   "metadata": {},
   "source": [
    "Familiarize yourself with the catalog\n",
    "\n",
    "print the columns in the catalog that will be used in the cross-match."
   ]
  },
  {
   "cell_type": "code",
   "execution_count": 21,
   "metadata": {},
   "outputs": [
    {
     "data": {
      "text/html": [
       "<i>Table length=225709</i>\n",
       "<table id=\"table4612825440\" class=\"table-striped table-bordered table-condensed\">\n",
       "<thead><tr><th>NEDname</th><th>RA</th><th>DEC</th><th>TYPE_NED</th><th>DISTMPC</th><th>Z</th><th>ZERR</th><th>MODELMAG_R</th><th>K_M_K20FE</th><th>K_MSIG_K20FE</th><th>W1MPRO</th><th>W1SIGMPRO</th></tr></thead>\n",
       "<thead><tr><th>bytes30</th><th>float64</th><th>float64</th><th>bytes3</th><th>float32</th><th>float64</th><th>float64</th><th>float32</th><th>float64</th><th>float64</th><th>float64</th><th>float64</th></tr></thead>\n",
       "<tr><td>2dFGRS S805Z417</td><td>0.00162</td><td>-56.14106</td><td>G</td><td>43.25686</td><td>0.010381646454334259</td><td>0.000297</td><td>nan</td><td>1e+20</td><td>1e+20</td><td>15.983</td><td>0.046</td></tr>\n",
       "<tr><td>2MASS J00000158-3930463</td><td>0.0068</td><td>-39.51309</td><td>G</td><td>46.027866</td><td>0.011046688072383404</td><td>0.000119</td><td>nan</td><td>1e+20</td><td>1e+20</td><td>1e+20</td><td>1e+20</td></tr>\n",
       "<tr><td>KUG 2357+156</td><td>0.00905</td><td>15.88188</td><td>G</td><td>85.72995</td><td>0.020575188100337982</td><td>3.3e-05</td><td>14.917557</td><td>12.31</td><td>0.067</td><td>12.178</td><td>0.023</td></tr>\n",
       "<tr><td>2dFGRS S199Z178</td><td>0.00996</td><td>-27.74194</td><td>G</td><td>114.32659</td><td>0.02743838168680668</td><td>0.000297</td><td>nan</td><td>1e+20</td><td>1e+20</td><td>15.268</td><td>0.04</td></tr>\n",
       "<tr><td>GALEXASC J000003.23-333033.4</td><td>0.01362</td><td>-33.50967</td><td>G</td><td>98.505714</td><td>0.023641372099518776</td><td>0.000297</td><td>nan</td><td>1e+20</td><td>1e+20</td><td>16.651</td><td>0.083</td></tr>\n",
       "<tr><td>GALEXASC J000005.52-011255.7</td><td>0.02304</td><td>-1.2155</td><td>UvS</td><td>130.27467</td><td>0.031265921890735626</td><td>1e+20</td><td>17.157835</td><td>1e+20</td><td>1e+20</td><td>15.292</td><td>0.04</td></tr>\n",
       "<tr><td>USGC U001</td><td>0.02333</td><td>26.19028</td><td>GTr</td><td>106.429</td><td>0.025542961433529854</td><td>1e+20</td><td>22.110594</td><td>1e+20</td><td>1e+20</td><td>17.719</td><td>0.213</td></tr>\n",
       "<tr><td>DUKST 349-064</td><td>0.02492</td><td>-35.65822</td><td>G</td><td>121.63314</td><td>0.02919195219874382</td><td>0.000213</td><td>nan</td><td>1e+20</td><td>1e+20</td><td>14.699</td><td>0.046</td></tr>\n",
       "<tr><td>UGC 12890</td><td>0.02931</td><td>8.27918</td><td>G</td><td>165.74657</td><td>0.0397791750729084</td><td>-999.0</td><td>nan</td><td>10.779</td><td>0.059</td><td>11.521</td><td>0.023</td></tr>\n",
       "<tr><td>MCG -01-01-016</td><td>0.036</td><td>-6.374</td><td>G</td><td>93.52904</td><td>0.022446969524025917</td><td>2.7e-05</td><td>14.141832</td><td>11.24</td><td>0.059</td><td>11.946</td><td>0.023</td></tr>\n",
       "<tr><td>...</td><td>...</td><td>...</td><td>...</td><td>...</td><td>...</td><td>...</td><td>...</td><td>...</td><td>...</td><td>...</td><td>...</td></tr>\n",
       "<tr><td>GALEXASC J234305.34-552311.9</td><td>355.77191</td><td>-55.38668</td><td>Vis</td><td>85.65714</td><td>0.020557714626193047</td><td>-999.0</td><td>nan</td><td>1e+20</td><td>1e+20</td><td>16.163</td><td>0.048</td></tr>\n",
       "<tr><td>GALEXASC J234344.33-545403.7</td><td>355.93484</td><td>-54.90119</td><td>Vis</td><td>42.82857</td><td>0.010278857313096523</td><td>-999.0</td><td>nan</td><td>1e+20</td><td>1e+20</td><td>15.047</td><td>0.032</td></tr>\n",
       "<tr><td>SDSS J234403.01+003122.6</td><td>356.01255</td><td>0.52295</td><td>G</td><td>98.111694</td><td>0.02354680746793747</td><td>1e+20</td><td>21.51647</td><td>1e+20</td><td>1e+20</td><td>1e+20</td><td>1e+20</td></tr>\n",
       "<tr><td>GALEXASC J234414.08-364635.4</td><td>356.05836</td><td>-36.77655</td><td>G</td><td>26.48519</td><td>0.006356445141136646</td><td>1.3e-05</td><td>nan</td><td>1e+20</td><td>1e+20</td><td>15.055</td><td>0.036</td></tr>\n",
       "<tr><td>2MASX J23454008+0144274</td><td>356.41704</td><td>1.74092</td><td>G</td><td>119.54739</td><td>0.028691373765468597</td><td>1e+20</td><td>15.659925</td><td>14.084</td><td>0.168</td><td>14.073</td><td>0.03</td></tr>\n",
       "<tr><td>AGC 331333</td><td>356.75349</td><td>27.2631</td><td>G</td><td>128.07455</td><td>0.030737893655896187</td><td>0.00032</td><td>nan</td><td>1e+20</td><td>1e+20</td><td>1e+20</td><td>1e+20</td></tr>\n",
       "<tr><td>GALEXASC J235033.20-363303.2</td><td>357.63789</td><td>-36.551</td><td>G</td><td>30.973623</td><td>0.00743366964161396</td><td>7e-06</td><td>nan</td><td>1e+20</td><td>1e+20</td><td>15.104</td><td>0.034</td></tr>\n",
       "<tr><td>2dFGRS S274Z118</td><td>357.82371</td><td>-29.26367</td><td>Vis</td><td>2.1414285</td><td>0.0005139427958056331</td><td>0.000213</td><td>nan</td><td>1e+20</td><td>1e+20</td><td>13.502</td><td>0.025</td></tr>\n",
       "<tr><td>SNF 20080706-004 HOST</td><td>358.78238</td><td>7.68939</td><td>G</td><td>169.34418</td><td>0.04064260423183441</td><td>5e-05</td><td>nan</td><td>1e+20</td><td>1e+20</td><td>15.167</td><td>0.038</td></tr>\n",
       "<tr><td>SDSS-II SN 03674</td><td>359.79162</td><td>0.16298</td><td>Vis</td><td>149.9</td><td>0.035976000130176544</td><td>-999.0</td><td>22.53733</td><td>1e+20</td><td>1e+20</td><td>1e+20</td><td>1e+20</td></tr>\n",
       "</table>"
      ],
      "text/plain": [
       "<Table length=225709>\n",
       "          NEDname                RA       DEC    ...  W1MPRO W1SIGMPRO\n",
       "          bytes30             float64   float64  ... float64  float64 \n",
       "---------------------------- --------- --------- ... ------- ---------\n",
       "             2dFGRS S805Z417   0.00162 -56.14106 ...  15.983     0.046\n",
       "     2MASS J00000158-3930463    0.0068 -39.51309 ...   1e+20     1e+20\n",
       "                KUG 2357+156   0.00905  15.88188 ...  12.178     0.023\n",
       "             2dFGRS S199Z178   0.00996 -27.74194 ...  15.268      0.04\n",
       "GALEXASC J000003.23-333033.4   0.01362 -33.50967 ...  16.651     0.083\n",
       "GALEXASC J000005.52-011255.7   0.02304   -1.2155 ...  15.292      0.04\n",
       "                   USGC U001   0.02333  26.19028 ...  17.719     0.213\n",
       "               DUKST 349-064   0.02492 -35.65822 ...  14.699     0.046\n",
       "                   UGC 12890   0.02931   8.27918 ...  11.521     0.023\n",
       "              MCG -01-01-016     0.036    -6.374 ...  11.946     0.023\n",
       "                         ...       ...       ... ...     ...       ...\n",
       "GALEXASC J234305.34-552311.9 355.77191 -55.38668 ...  16.163     0.048\n",
       "GALEXASC J234344.33-545403.7 355.93484 -54.90119 ...  15.047     0.032\n",
       "    SDSS J234403.01+003122.6 356.01255   0.52295 ...   1e+20     1e+20\n",
       "GALEXASC J234414.08-364635.4 356.05836 -36.77655 ...  15.055     0.036\n",
       "     2MASX J23454008+0144274 356.41704   1.74092 ...  14.073      0.03\n",
       "                  AGC 331333 356.75349   27.2631 ...   1e+20     1e+20\n",
       "GALEXASC J235033.20-363303.2 357.63789   -36.551 ...  15.104     0.034\n",
       "             2dFGRS S274Z118 357.82371 -29.26367 ...  13.502     0.025\n",
       "       SNF 20080706-004 HOST 358.78238   7.68939 ...  15.167     0.038\n",
       "            SDSS-II SN 03674 359.79162   0.16298 ...   1e+20     1e+20"
      ]
     },
     "execution_count": 21,
     "metadata": {},
     "output_type": "execute_result"
    }
   ],
   "source": [
    "clu['NEDname','RA','DEC','TYPE_NED','DISTMPC','Z','ZERR','MODELMAG_R','K_M_K20FE','K_MSIG_K20FE','W1MPRO','W1SIGMPRO']"
   ]
  },
  {
   "cell_type": "markdown",
   "metadata": {},
   "source": [
    "'RA'=Right Ascension in degrees <br>\n",
    "'Dec'=Declination in degrees  <br>\n",
    "'MODELMAG_R'=SDSS r-band magnitude  <br>\n",
    "'MODELMAGERR_R'=SDSS r-band magnitude Error  <br>\n",
    "'K_M_K20FE'=2MASS K-band magnitude  <br>\n",
    "'K_MSIG_K20FE'=2MASS K-band magnitude Error  <br>\n",
    "'W1MPRO'=WISE W1 magnitude (3.6 micron)  <br>\n",
    "'W1SIGMPRO'=WISE W1 magnitude Error  <br>"
   ]
  },
  {
   "cell_type": "markdown",
   "metadata": {},
   "source": [
    "### Student Exercise\n",
    "Use the astropy.coordinates package and the SkyCoord function to store all of the galaxy catalog's locations. "
   ]
  },
  {
   "cell_type": "markdown",
   "metadata": {},
   "source": [
    "The astropy coordinates package provides classes for representing a variety of celestial/spatial coordinates and their velocity components, as well as tools for converting between common coordinate systems in a uniform way. In addition, the astropy coordinates package facilitates fast manipulation and cross-matching. See here for examples: https://docs.astropy.org/en/stable/coordinates/\n",
    "\n",
    "Create a coordinate object for the entire CLU catalog (hint: use SkyCoord)."
   ]
  },
  {
   "cell_type": "code",
   "execution_count": 22,
   "metadata": {},
   "outputs": [],
   "source": [
    "clucoord=SkyCoord(ra=clu['RA']*u.deg,dec=clu['DEC']*u.deg)"
   ]
  },
  {
   "cell_type": "markdown",
   "metadata": {},
   "source": [
    "### GW170817 3D Localization"
   ]
  },
  {
   "cell_type": "markdown",
   "metadata": {},
   "source": [
    "Now let's read in the LIGO/VIRGO HEALpix map for GW170817.\n",
    "\n",
    "LIGO/Virgo localization files for compact binary mergers include directional estimates of distance. The distance information is stored in three additional columns. To get the distance estimates, we need to ask for all four columns: `PROB`, `DISTMU`, `DISTSIGMA`, and `DISTNORM`."
   ]
  },
  {
   "cell_type": "code",
   "execution_count": 23,
   "metadata": {},
   "outputs": [
    {
     "name": "stdout",
     "output_type": "stream",
     "text": [
      "NSIDE = 1024\n",
      "ORDERING = NESTED in fits file\n",
      "INDXSCHM = IMPLICIT\n",
      "Ordering converted to RING\n",
      "Ordering converted to RING\n",
      "Ordering converted to RING\n",
      "Ordering converted to RING\n"
     ]
    }
   ],
   "source": [
    "url = 'https://dcc.ligo.org/public/0146/G1701985/001/preliminary-LALInference.fits.gz'\n",
    "filename = astropy.utils.data.download_file(url)\n",
    "\n",
    "prob, distmu, distsigma, distnorm = hp.read_map(filename, field=[0, 1, 2, 3])\n",
    "\n",
    "npix = len(prob)\n",
    "nside = hp.npix2nside(npix)\n",
    "pixarea = hp.nside2pixarea(nside)"
   ]
  },
  {
   "cell_type": "markdown",
   "metadata": {},
   "source": [
    "### Student Exercise\n",
    "\n",
    "Find the coordinates of the highest probability pixel and put the coordinates into an astropy coordinate object called 'center'"
   ]
  },
  {
   "cell_type": "code",
   "execution_count": 24,
   "metadata": {},
   "outputs": [
    {
     "name": "stdout",
     "output_type": "stream",
     "text": [
      "Coordinates (RA,Dec) = <SkyCoord (ICRS): (ra, dec) in deg\n",
      "    (197.35839844, -25.61308322)>\n"
     ]
    }
   ],
   "source": [
    "ipix_max = np.argmax(prob)\n",
    "ra_max, dec_max = hp.pix2ang(nside, ipix_max, lonlat=True)\n",
    "center = SkyCoord(ra=ra_max*u.deg,dec=dec_max*u.deg)\n",
    "print('Coordinates (RA,Dec) = %s' %(center))"
   ]
  },
  {
   "cell_type": "markdown",
   "metadata": {},
   "source": [
    "### Other plotting packages for LIGO/VIRGO HEALPix maps.\n",
    "\n",
    "There are many visualization packages for plotting HEALPix maps. Luckily, LIGO has taken the time to provide its own user-friendly wrapper for plotting LIGO/VIRGO localizations.\n",
    "\n",
    "Let's plot the sky localization using an 'astroglobe' projection centered on the highest highest probability pixel and overplot this location using the ligo.skymap package. (see here: https://lscsoft.docs.ligo.org/ligo.skymap/ligo/skymap/plot/allsky.html)"
   ]
  },
  {
   "cell_type": "code",
   "execution_count": 25,
   "metadata": {},
   "outputs": [
    {
     "data": {
      "text/plain": [
       "[<matplotlib.lines.Line2D at 0x101e91048>]"
      ]
     },
     "execution_count": 25,
     "metadata": {},
     "output_type": "execute_result"
    },
    {
     "name": "stderr",
     "output_type": "stream",
     "text": [
      "/opt/local/Library/Frameworks/Python.framework/Versions/3.6/lib/python3.6/site-packages/astropy/visualization/wcsaxes/grid_paths.py:73: RuntimeWarning: invalid value encountered in greater\n",
      "  discontinuous = step[1:] > DISCONT_FACTOR * step[:-1]\n",
      "/opt/local/Library/Frameworks/Python.framework/Versions/3.6/lib/python3.6/site-packages/astropy/visualization/wcsaxes/grid_paths.py:73: RuntimeWarning: invalid value encountered in greater\n",
      "  discontinuous = step[1:] > DISCONT_FACTOR * step[:-1]\n",
      "/opt/local/Library/Frameworks/Python.framework/Versions/3.6/lib/python3.6/site-packages/astropy/visualization/wcsaxes/grid_paths.py:73: RuntimeWarning: invalid value encountered in greater\n",
      "  discontinuous = step[1:] > DISCONT_FACTOR * step[:-1]\n",
      "/opt/local/Library/Frameworks/Python.framework/Versions/3.6/lib/python3.6/site-packages/astropy/visualization/wcsaxes/grid_paths.py:73: RuntimeWarning: invalid value encountered in greater\n",
      "  discontinuous = step[1:] > DISCONT_FACTOR * step[:-1]\n"
     ]
    },
    {
     "data": {
      "image/png": "[encoded data removed]",
      "text/plain": [
       "<Figure size 432x288 with 1 Axes>"
      ]
     },
     "metadata": {
      "needs_background": "light"
     },
     "output_type": "display_data"
    }
   ],
   "source": [
    "ax = plt.axes(\n",
    "    [0.05, 0.05, 0.9, 0.9],\n",
    "    projection='astro globe',\n",
    "    center=center)\n",
    "\n",
    "ax.grid()\n",
    "ax.imshow_hpx(filename, cmap='cylon')\n",
    "ax.plot(\n",
    "    center.ra.deg, center.dec.deg,\n",
    "    transform=ax.get_transform('world'),\n",
    "    marker=ligo.skymap.plot.reticle(inner=0,outer=1),\n",
    "    markersize=10,\n",
    "    markeredgewidth=2)"
   ]
  },
  {
   "cell_type": "markdown",
   "metadata": {},
   "source": [
    "### Student Exercises\n",
    "1. Back to the galaxy catalog. Calculate the HEALPix index for each galaxy."
   ]
  },
  {
   "cell_type": "code",
   "execution_count": 26,
   "metadata": {},
   "outputs": [],
   "source": [
    "theta=0.5 * np.pi - clucoord.dec.to('rad').value\n",
    "phi=clucoord.ra.to('rad').value\n",
    "ipix=hp.ang2pix(nside,theta,phi)"
   ]
  },
  {
   "cell_type": "markdown",
   "metadata": {},
   "source": [
    "2. Compute the probabilities of each galaxy: per area, per radial distance, and per volume."
   ]
  },
  {
   "cell_type": "code",
   "execution_count": 27,
   "metadata": {},
   "outputs": [],
   "source": [
    "#probability density per area on the sky for each galaxy\n",
    "dp_dA=prob[ipix]/pixarea\n",
    "clu['dP_dA']=dp_dA\n",
    "\n",
    "#probability along radial distance\n",
    "dp_dr=clu['DISTMPC']**2 * distnorm[ipix] * norm(distmu[ipix],distsigma[ipix]).pdf(clu['DISTMPC'])\n",
    "\n",
    "#probability density per volume\n",
    "dp_dV=prob[ipix] * distnorm[ipix] * norm(distmu[ipix],distsigma[ipix]).pdf(clu['DISTMPC'])/pixarea \n",
    "clu['dP_dV']=dp_dV"
   ]
  },
  {
   "cell_type": "markdown",
   "metadata": {},
   "source": [
    "3. Use a normalized cumulative dist function to calculate P-value per area for each galaxy (hint: use np.cumsum)."
   ]
  },
  {
   "cell_type": "code",
   "execution_count": 28,
   "metadata": {},
   "outputs": [
    {
     "name": "stdout",
     "output_type": "stream",
     "text": [
      "# of galaxies in 90% Area = 850\n",
      "          NEDname                  dP_dA                P_A         \n",
      "---------------------------- ------------------ --------------------\n",
      "     2MASX J13085466-2526013  328.4708057481784 0.007695115776384712\n",
      "     2MASX J13105449-2605323 313.15080651412734 0.015031328521702097\n",
      "     2MASX J13113020-2619386 300.98559528753657 0.022082545744755145\n",
      "GALEXASC J131215.12-264630.4   282.127096965202  0.02869196319315675\n",
      "GALEXASC J131108.75-255359.1  276.5933656229848   0.0351717414084558\n",
      "              ESO 508- G 003 260.04855554117916  0.04126392283630887\n",
      "     2MASX J13123929-2642121  257.9949138461368  0.04730799341129461\n",
      "     2MASX J13121969-2633515    257.30556126262 0.053335914459905154\n",
      "     2MASX J13124243-2721202 249.64494387777017 0.059184369520478404\n",
      "     2MASS J13122568-2628206 247.63513389002884  0.06498574057762256\n",
      "     2MASX J13132823-2713540 245.78170307672855  0.07074369114063976\n",
      "     2MASX J13111030-2655596  239.4362886006441  0.07635298709512517\n",
      "     2MASX J13060489-2351582 237.55153732271935  0.08191812880807826\n",
      "                    UGCA 325  233.4818867376859   0.0873879304424818\n",
      "ABELL 1664_06:[PSE2006] 0908 232.85121160651062  0.09284295719258284\n",
      "ABELL 1664_12:[PSE2006] 2233 228.22178389917568  0.09818952991400635\n",
      "     2MASX J13130235-2636422 223.73585028023865  0.10343101025595866\n",
      "     2MASX J13130430-2742012 222.10294178363256  0.10863423630037909\n",
      "           AM 1302-232 NED01  221.5527942299063   0.1138245739874602\n",
      "     2MASX J13054598-2412025 218.38838045315967  0.11894077866195595\n"
     ]
    }
   ],
   "source": [
    "clu.sort('dP_dA')\n",
    "clu.reverse()\n",
    "cum_sort=np.cumsum(clu['dP_dA'])\n",
    "cumnorm_sort=cum_sort/np.max(cum_sort)\n",
    "clu['P_A']=cumnorm_sort\n",
    "\n",
    "#ID galaxies inside the 90% prob by volume\n",
    "icutarea90=np.where(clu['P_A'] <= 0.9)\n",
    "clucutarea90=clu[icutarea90]\n",
    "\n",
    "#generate astropy coordinate object for this sample\n",
    "clucutarea90coord=SkyCoord(ra=clucutarea90['RA']*u.deg,dec=clucutarea90['DEC']*u.deg)\n",
    "\n",
    "print('# of galaxies in 90%% Area = %i' %(np.size(icutarea90)))\n",
    "\n",
    "#sort the galaxies by P-value and print out top 20\n",
    "clucutarea90['NEDname','dP_dA','P_A'][0:20].pprint(max_lines=22)"
   ]
  },
  {
   "cell_type": "markdown",
   "metadata": {},
   "source": [
    "### Plot the top 20 highest probability galaxies and add a zoomed-in inset."
   ]
  },
  {
   "cell_type": "code",
   "execution_count": 29,
   "metadata": {},
   "outputs": [
    {
     "name": "stderr",
     "output_type": "stream",
     "text": [
      "/opt/local/Library/Frameworks/Python.framework/Versions/3.6/lib/python3.6/site-packages/astropy/visualization/wcsaxes/grid_paths.py:73: RuntimeWarning: invalid value encountered in greater\n",
      "  discontinuous = step[1:] > DISCONT_FACTOR * step[:-1]\n",
      "/opt/local/Library/Frameworks/Python.framework/Versions/3.6/lib/python3.6/site-packages/astropy/visualization/wcsaxes/grid_paths.py:73: RuntimeWarning: invalid value encountered in greater\n",
      "  discontinuous = step[1:] > DISCONT_FACTOR * step[:-1]\n",
      "/opt/local/Library/Frameworks/Python.framework/Versions/3.6/lib/python3.6/site-packages/astropy/visualization/wcsaxes/grid_paths.py:73: RuntimeWarning: invalid value encountered in greater\n",
      "  discontinuous = step[1:] > DISCONT_FACTOR * step[:-1]\n",
      "/opt/local/Library/Frameworks/Python.framework/Versions/3.6/lib/python3.6/site-packages/astropy/visualization/wcsaxes/grid_paths.py:73: RuntimeWarning: invalid value encountered in greater\n",
      "  discontinuous = step[1:] > DISCONT_FACTOR * step[:-1]\n"
     ]
    },
    {
     "data": {
      "image/png": "[encoded data removed]",
      "text/plain": [
       "<Figure size 432x288 with 2 Axes>"
      ]
     },
     "metadata": {
      "needs_background": "light"
     },
     "output_type": "display_data"
    }
   ],
   "source": [
    "ax = plt.axes(\n",
    "    [0.05, 0.05, 0.9, 0.9],\n",
    "    projection='astro globe',\n",
    "    center=center)\n",
    "\n",
    "#Zoomed-in inset window to better view the locations of the galaxies.\n",
    "ax_inset = plt.axes(\n",
    "    [0.59, 0.3, 0.4, 0.4],\n",
    "    projection='astro zoom',\n",
    "    center=center,\n",
    "    radius=15*u.deg)\n",
    "for key in ['ra', 'dec']:\n",
    "    ax_inset.coords[key].set_ticklabel_visible(False)\n",
    "    ax_inset.coords[key].set_ticks_visible(False)\n",
    "ax.grid()\n",
    "ax.mark_inset_axes(ax_inset)\n",
    "ax.connect_inset_axes(ax_inset, 'upper left')\n",
    "ax.connect_inset_axes(ax_inset, 'lower left')\n",
    "ax_inset.scalebar((0.1, 0.1), 5 * u.deg).label()\n",
    "ax_inset.compass(0.9, 0.1, 0.2)\n",
    "\n",
    "ax.imshow_hpx('data/GW170817_prelim.fits.gz', cmap='cylon')\n",
    "ax_inset.imshow_hpx('data/GW170817_prelim.fits.gz', cmap='cylon')\n",
    "\n",
    "for coord in clucutarea90coord:\n",
    "    ax_inset.plot(\n",
    "    coord.ra.deg, coord.dec.deg,\n",
    "    transform=ax_inset.get_transform('world'),\n",
    "    marker=ligo.skymap.plot.reticle(inner=0,outer=1),\n",
    "    markersize=10,\n",
    "    markeredgewidth=1)\n",
    "\n",
    "plt.show()"
   ]
  },
  {
   "cell_type": "markdown",
   "metadata": {},
   "source": [
    "## Exercise for students - Put it all Together...\n",
    "\n",
    "Following the examples above, find galaxies in 90% __VOLUME__ probability contour for GW170817, sort by Wise W1 luminosity, and overplot the top 20 sorted galaxies.\n",
    "\n",
    "Information on WISE zeropoints and flux transformations\n",
    "http://wise2.ipac.caltech.edu/docs/release/allsky/expsup/sec4_4h.html"
   ]
  },
  {
   "cell_type": "markdown",
   "metadata": {},
   "source": [
    "### Part I - Find the galaxies in the 90% volumne probability"
   ]
  },
  {
   "cell_type": "code",
   "execution_count": 30,
   "metadata": {},
   "outputs": [
    {
     "name": "stdout",
     "output_type": "stream",
     "text": [
      "NSIDE = 1024\n",
      "ORDERING = NESTED in fits file\n",
      "INDXSCHM = IMPLICIT\n",
      "Ordering converted to RING\n",
      "Ordering converted to RING\n",
      "Ordering converted to RING\n",
      "Ordering converted to RING\n",
      "<SkyCoord (ICRS): (ra, dec) in deg\n",
      "    (197.35839844, -25.61308322)>\n",
      "# of galaxies in 90% volume = 42\n"
     ]
    }
   ],
   "source": [
    "#load in CLU catalog\n",
    "clu=Table.read('data/CLU_NEDonly.fits')\n",
    "clucoord=SkyCoord(ra=clu['RA']*u.deg,dec=clu['DEC']*u.deg)\n",
    "nclu=np.size(clu)\n",
    "\n",
    "#make astropy coordinate object of CLU galaxies\n",
    "clucoord=SkyCoord(ra=clu['RA']*u.deg,dec=clu['DEC']*u.deg)\n",
    "\n",
    "#sky localization colmns to the galaxy catalog: probability density and p-value per volume and per area.\n",
    "probdencol=Column(np.zeros(nclu,dtype='f4'),name='dP_dV')\n",
    "probcol=Column(np.zeros(nclu,dtype='f4'),name='P')\n",
    "probdenAcol=Column(np.zeros(nclu,dtype='f4'),name='dP_dA')\n",
    "probAcol=Column(np.zeros(nclu,dtype='f4'),name='P_A')\n",
    "clu.add_columns([probdencol,probcol,probdenAcol,probAcol])\n",
    "\n",
    "#load in healpix map\n",
    "prob,distmu,distsigma,distnorm=hp.read_map('data/GW170817_prelim.fits.gz',field=[0,1,2,3],dtype=('f8','f8','f8','f8'))\n",
    "npix=len(prob)\n",
    "nside=hp.npix2nside(npix)\n",
    "pixarea=hp.nside2pixarea(nside)\n",
    "\n",
    "#get coord of max prob density for plotting purposes\n",
    "ipix_max = np.argmax(prob)\n",
    "theta_max, phi_max = hp.pix2ang(nside, ipix_max)\n",
    "ra_max = np.rad2deg(phi_max)\n",
    "dec_max = np.rad2deg(0.5 * np.pi - theta_max)\n",
    "center = SkyCoord(ra=ra_max*u.deg,dec=dec_max*u.deg)\n",
    "print(center)\n",
    "\n",
    "#calc hp index for each galaxy and populate CLU Table with the values\n",
    "theta=0.5 * np.pi - clucoord.dec.to('rad').value\n",
    "phi=clucoord.ra.to('rad').value\n",
    "ipix=hp.ang2pix(nside,theta,phi)\n",
    "#calc probability density per volume for each galaxy\n",
    "dp_dV=prob[ipix] * distnorm[ipix] * norm(distmu[ipix],distsigma[ipix]).pdf(clu['DISTMPC'])/pixarea \n",
    "clu['dP_dV']=dp_dV\n",
    "\n",
    "#use normalized cumulative dist function to calculate Volume P-value for each galaxy\n",
    "clu.sort('dP_dV')\n",
    "clu.reverse()\n",
    "cum_sort=np.cumsum(clu['dP_dV'])\n",
    "cumnorm_sort=cum_sort/np.max(cum_sort)\n",
    "clu['P']=cumnorm_sort\n",
    "\n",
    "#ID galaxies inside the 90% prob by volume\n",
    "icut90=np.where(clu['P'] <= 0.9)\n",
    "clucut90=clu[icut90]\n",
    "\n",
    "#generate an astropy coordinate object for this subset\n",
    "clucut90coord=SkyCoord(ra=clucut90['RA']*u.deg,dec=clucut90['DEC']*u.deg)\n",
    "\n",
    "print('# of galaxies in 90%% volume = %i' %(np.size(clucut90)))\n",
    "\n"
   ]
  },
  {
   "cell_type": "markdown",
   "metadata": {},
   "source": [
    "Q: Why are there so fewer galaxies in the volumne probability?\n",
    "A: Taking into account distance puts tighter constraints on the sample."
   ]
  },
  {
   "cell_type": "markdown",
   "metadata": {},
   "source": [
    "Part II - Sort by WISE W1 Luminosity"
   ]
  },
  {
   "cell_type": "code",
   "execution_count": 31,
   "metadata": {},
   "outputs": [
    {
     "name": "stdout",
     "output_type": "stream",
     "text": [
      "        NEDname                   LumW1           ...          P         \n",
      "----------------------- ------------------------- ... -------------------\n",
      "               NGC 4970 1.0884088954320000597e+42 ...  0.6995353723555456\n",
      "               NGC 4993    7.5032646027206775e+41 ...  0.7965022626584416\n",
      "               NGC 4968  7.367336809737711801e+41 ...  0.3905416510700604\n",
      "                IC 4197  7.159408041749106282e+41 ...   0.636392013632011\n",
      "                IC 4180  6.191420321536100089e+41 ... 0.20082875617890292\n",
      "         ESO 508- G 033  3.728938562939855379e+41 ...  0.7710150928931331\n",
      "                IC 0874  2.957639646390979745e+41 ...  0.8792942624546624\n",
      "         ESO 508- G 010 1.3404951718770816046e+41 ...  0.6805763434781986\n",
      "2MASX J13161781-2926415 1.0298766866197851405e+41 ...  0.8733888921183204\n",
      "         ESO 575- G 053 8.7703046690865904305e+40 ... 0.45294243100812964\n",
      "                IC 0879 7.7850962931557685694e+40 ...   0.890283449648996\n",
      "               UGCA 331  6.182574842412703268e+40 ...   0.808623779107441\n",
      "   ESO 575- G 044 NED01  5.705652214096152376e+40 ...   0.895230316115733\n",
      "         ESO 575- G 055  4.918953488412471152e+40 ...  0.8672853532554123\n",
      "         ESO 508- G 003 4.8158691124006157543e+40 ...  0.0654119434763518\n",
      "         ESO 508- G 019  3.995895285635972178e+40 ...  0.5098985022830953\n",
      "2MASX J13073768-2356181 3.4884431466584360636e+40 ...  0.8532464568147246\n",
      "            2MFGC 10461 3.3076261973941396845e+40 ...  0.5885153130290641\n",
      "2MASX J13061939-2258491 2.7938869474082211623e+40 ...  0.6592093486395489\n",
      "               UGCA 327  2.653563605837436326e+40 ...  0.7574665230057527\n"
     ]
    }
   ],
   "source": [
    "#Add a WISE W1 luminosity column to the CLU table\n",
    "W1lumcol=Column(np.zeros(nclu,dtype='f8'),name='LumW1')\n",
    "clu.add_column(W1lumcol)\n",
    "\n",
    "#constansts needed\n",
    "F0=309.540\n",
    "clight=2.99792458e18   #Angstoms/sec\n",
    "lamW1=33526.   #Angtroms\n",
    "\n",
    "fluxJyW1=F0*10**(-0.4*clucut90['W1MPRO'])  #in Jy\n",
    "fluxdenW1=fluxJyW1*1e-23  #erg/s/cm^2/Hz\n",
    "freqW1=clight/lamW1\n",
    "\n",
    "#distcm=4*np.pi*(np.float128(clucut90['DISTMPC'])*1.086e24)**2)\n",
    "clucut90['LumW1']=fluxdenW1 * freqW1 * 4*np.pi*(np.float128(clucut90['DISTMPC'])*1.086e24)**2\n",
    "\n",
    "#sort by WISE 1 Luminosity (proportional to galaxy stellar mass)\n",
    "clucut90.sort('LumW1')\n",
    "clucut90.reverse()\n",
    "\n",
    "#then print list of prioritized galaxies\n",
    "clucut90['NEDname','LumW1','dP_dV','P'][0:20].pprint(max_lines=22)\n",
    "\n",
    "\n",
    "#Q: Is NGC4993 in your list?\n",
    "#A: It should be #2"
   ]
  },
  {
   "cell_type": "markdown",
   "metadata": {},
   "source": [
    "### Part III - Plot up the sky localization and overplot the top 20 sorted galaxies on it."
   ]
  },
  {
   "cell_type": "code",
   "execution_count": 32,
   "metadata": {},
   "outputs": [
    {
     "name": "stderr",
     "output_type": "stream",
     "text": [
      "/opt/local/Library/Frameworks/Python.framework/Versions/3.6/lib/python3.6/site-packages/astropy/visualization/wcsaxes/grid_paths.py:73: RuntimeWarning: invalid value encountered in greater\n",
      "  discontinuous = step[1:] > DISCONT_FACTOR * step[:-1]\n",
      "/opt/local/Library/Frameworks/Python.framework/Versions/3.6/lib/python3.6/site-packages/astropy/visualization/wcsaxes/grid_paths.py:73: RuntimeWarning: invalid value encountered in greater\n",
      "  discontinuous = step[1:] > DISCONT_FACTOR * step[:-1]\n",
      "/opt/local/Library/Frameworks/Python.framework/Versions/3.6/lib/python3.6/site-packages/astropy/visualization/wcsaxes/grid_paths.py:73: RuntimeWarning: invalid value encountered in greater\n",
      "  discontinuous = step[1:] > DISCONT_FACTOR * step[:-1]\n",
      "/opt/local/Library/Frameworks/Python.framework/Versions/3.6/lib/python3.6/site-packages/astropy/visualization/wcsaxes/grid_paths.py:73: RuntimeWarning: invalid value encountered in greater\n",
      "  discontinuous = step[1:] > DISCONT_FACTOR * step[:-1]\n"
     ]
    },
    {
     "data": {
      "image/png": "[encoded data removed]",
      "text/plain": [
       "<Figure size 432x288 with 2 Axes>"
      ]
     },
     "metadata": {
      "needs_background": "light"
     },
     "output_type": "display_data"
    }
   ],
   "source": [
    "#plot up the sky localization and overplot the galaxies\n",
    "ax = plt.axes(\n",
    "    [0.05, 0.05, 0.9, 0.9],\n",
    "    projection='astro globe',\n",
    "    center=center)\n",
    "\n",
    "ax_inset = plt.axes(\n",
    "    [0.59, 0.3, 0.4, 0.4],\n",
    "    projection='astro zoom',\n",
    "    center=center,\n",
    "    radius=10*u.deg)\n",
    "\n",
    "for key in ['ra', 'dec']:\n",
    "    ax_inset.coords[key].set_ticklabel_visible(False)\n",
    "    ax_inset.coords[key].set_ticks_visible(False)\n",
    "ax.grid()\n",
    "ax.mark_inset_axes(ax_inset)\n",
    "ax.connect_inset_axes(ax_inset, 'upper left')\n",
    "ax.connect_inset_axes(ax_inset, 'lower left')\n",
    "ax_inset.scalebar((0.1, 0.1), 5 * u.deg).label()\n",
    "ax_inset.compass(0.9, 0.1, 0.2)\n",
    "\n",
    "ax.imshow_hpx('data/GW170817_prelim.fits.gz', cmap='cylon')\n",
    "ax_inset.imshow_hpx('data/GW170817_prelim.fits.gz', cmap='cylon')\n",
    "for coord in clucut90coord:\n",
    "    ax_inset.plot(\n",
    "    coord.ra.deg, coord.dec.deg,\n",
    "    transform=ax_inset.get_transform('world'),\n",
    "    marker=ligo.skymap.plot.reticle(inner=0,outer=1),\n",
    "    markersize=10,\n",
    "    markeredgewidth=1)\n",
    "\n",
    "#where is NGC4993? hint: use ax_inset.text()\n",
    "c4993=SkyCoord.from_name('NGC 4993')\n",
    "ax_inset.text(c4993.ra.deg+10.5, c4993.dec.deg,'NGC 4993',transform=ax_inset.get_transform('world'),fontdict={'size':10,'color':'black','weight':'normal'})\n",
    "\n",
    "plt.show()"
   ]
  },
  {
   "cell_type": "code",
   "execution_count": null,
   "metadata": {},
   "outputs": [],
   "source": []
  }
 ],
 "metadata": {
  "kernelspec": {
   "display_name": "Python 3",
   "language": "python",
   "name": "python3"
  },
  "language_info": {
   "codemirror_mode": {
    "name": "ipython",
    "version": 3
   },
   "file_extension": ".py",
   "mimetype": "text/x-python",
   "name": "python",
   "nbconvert_exporter": "python",
   "pygments_lexer": "ipython3",
   "version": "3.6.5"
  }
 },
 "nbformat": 4,
 "nbformat_minor": 2
}
