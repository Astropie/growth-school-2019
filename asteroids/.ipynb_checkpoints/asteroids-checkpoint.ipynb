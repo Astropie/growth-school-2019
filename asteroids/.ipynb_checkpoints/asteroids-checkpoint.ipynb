{
 "cells": [
  {
   "cell_type": "markdown",
   "metadata": {},
   "source": [
    "# Asteroid Detection Module\n",
    "\n",
    "**Lecturer:** Quanzhi Ye<br>\n",
    "**Jupyter Notebook Authors:** Quanzhi Ye, Ashish Mahabal, Dmitry Duev, & Cameron Hummels\n",
    "\n",
    "This is a Jupyter notebook lesson taken from the GROWTH Summer School 2019.  For other lessons and their accompanying lectures, please see: http://growth.caltech.edu/growth-astro-school-2019-resources.html\n",
    "\n",
    "## Objective\n",
    "Compute the detection rate of fast-moving asteroids, asteroids that pass within ~20 lunar distances from Earth, and leave trails/streaks on astronomical images.\n",
    "\n",
    "## Key steps\n",
    "- Figure out which known asteroids will show up as streaks in ZTF images, and\n",
    "- Examine the streak catalog to see how many of them are detected.\n",
    "- [Optional] Run DeepStreaks, is a convolutional-neural-network, deep-learning system designed to efficiently identify streaking fast-moving near-Earth objects detected in the ZTF data\n",
    "\n",
    "## Required dependencies\n",
    "\n",
    "See GROWTH school webpage for detailed instructions on how to install these modules and packages.  Nominally, you should be able to install the python modules with `pip install <module>`.  The external astromatic packages are easiest installed using package managers (e.g., `rpm`, `apt-get`).\n",
    "\n",
    "### Python modules\n",
    "* python 3\n",
    "* astropy\n",
    "* numpy\n",
    "* pandas\n",
    "* astroquery\n",
    "* matplotlib\n",
    "* tensorflow\n",
    "\n",
    "### External packages\n",
    "None"
   ]
  },
  {
   "cell_type": "code",
   "execution_count": null,
   "metadata": {},
   "outputs": [],
   "source": [
    "import requests\n",
    "import numpy as np\n",
    "import pandas as pd\n",
    "import glob\n",
    "import matplotlib.pyplot as plt\n",
    "import os\n",
    "import tarfile\n",
    "from astroquery.jplhorizons import Horizons\n",
    "import datetime\n",
    "from astropy.time import Time\n",
    "from IPython.display import Image as Image_jupyter\n",
    "from IPython.display import display\n",
    "import pdb\n",
    "import warnings"
   ]
  },
  {
   "cell_type": "markdown",
   "metadata": {},
   "source": [
    "If you are missing dependencies, pip-install them from this notebook:"
   ]
  },
  {
   "cell_type": "code",
   "execution_count": null,
   "metadata": {},
   "outputs": [],
   "source": [
    "# !pip install astroquery\n",
    "# !pip install pillow"
   ]
  },
  {
   "cell_type": "markdown",
   "metadata": {},
   "source": [
    "## Step 1: fast-moving asteroids that fall on ZTF images\n",
    "\n",
    "We will loop over the catalog of known NEAs (Near-Earth Asteroids) and make a series of queries to JPL's Horizon service and IPAC's IRSA service, to determine if and when they will be visible at Palomar (where ZTF runs from)."
   ]
  },
  {
   "cell_type": "markdown",
   "metadata": {},
   "source": [
    "Let's download the catalog of known NEAs from the Minor Planet Center (MPC)."
   ]
  },
  {
   "cell_type": "code",
   "execution_count": null,
   "metadata": {},
   "outputs": [],
   "source": [
    "# !wget -O data/NEA.txt https://www.minorplanetcenter.net/iau/MPCORB/NEA.txt\n",
    "!ls -lhtr data"
   ]
  },
  {
   "cell_type": "code",
   "execution_count": null,
   "metadata": {},
   "outputs": [],
   "source": [
    "path_data = 'data'  # All relevant data are in data directory\n",
    "path_nea = os.path.join(path_data, 'NEA.txt')\n",
    "\n",
    "print('retrieving MPCORB...')\n",
    "with open(path_nea, 'r') as f:\n",
    "    mpcorb = f.read()\n",
    "mpcorb = mpcorb.split(\"\\n\")\n",
    "print('MPCORB file retrieved.')"
   ]
  },
  {
   "cell_type": "markdown",
   "metadata": {},
   "source": [
    "Let's convert the catalog into a `pandas` DataFrame for convenience. The format of the MPC catalog is described [here](https://www.minorplanetcenter.net/iau/info/MPOrbitFormat.html), it's best for machines but is also somewhat human readable."
   ]
  },
  {
   "cell_type": "code",
   "execution_count": null,
   "metadata": {},
   "outputs": [],
   "source": [
    "df = pd.read_fwf(path_nea, \n",
    "                 colspecs=[(0, 7), (8, 13), (14, 19), (20, 25),\n",
    "                           (26, 35), (37, 46), (48, 57), (59, 68), \n",
    "                           (70, 79), (80, 91), (92, 103), (105, 106), \n",
    "                           (107, 116), (117, 122), (123, 126), (127, 131), \n",
    "                           (131, 132), (132, 136), (137, 141), (142, 145), \n",
    "                           (146, 149), (150, 160), (161, 165), (166, 194), (194, 202)], \n",
    "                 names=['num', 'H', 'G', 'epoch', \n",
    "                        'n', 'omega', 'Omega', 'i', \n",
    "                        'e', 'n_daily', 'a', 'U',\n",
    "                        'reference', 'num_obs', 'num_opp', 'date_1',\n",
    "                        'date_2', 'date_3', 'rms_residual', 'coarse_ind_per', \n",
    "                        'presice_ind_per', 'computer_name', 'hex_flags', 'designation', 'date_last_obs'])\n",
    "# display first and last five entries\n",
    "display(df.head())\n",
    "display(df.tail())"
   ]
  },
  {
   "cell_type": "markdown",
   "metadata": {},
   "source": [
    "Now let us loop over the MPC catalog to check the visibility for every NEA. We will do it for NEA 2018 CL (the first NEA found by ZTF), and it's up to you to write a loop for it.\n",
    "\n",
    "First, we create an instance for the Horizons query. We only need to tell Horizons the name of the object we want to query, and the time window we want to query, and let Horizons do the heavy-lifting. Oh, and the three-letter-code for ZTF is `I41`, as described [here](https://www.minorplanetcenter.net/iau/lists/ObsCodesF.html). If the query returns zero entries, it means that the object is not observable at Palomar at the suggested time (interval)."
   ]
  },
  {
   "cell_type": "code",
   "execution_count": null,
   "metadata": {},
   "outputs": [],
   "source": [
    "ZTF_code = 'I41'"
   ]
  },
  {
   "cell_type": "markdown",
   "metadata": {},
   "source": [
    "First, let us define a time window we would like to query for. Our default is 20180205, the day ZTF science observations started:"
   ]
  },
  {
   "cell_type": "code",
   "execution_count": null,
   "metadata": {},
   "outputs": [],
   "source": [
    "start_date = '20180205'\n",
    "end_date = '20180206'"
   ]
  },
  {
   "cell_type": "markdown",
   "metadata": {},
   "source": [
    "Then let's do all the tasks described above. For now, we do our test with 2018 CL (the first NEA found by ZTF)."
   ]
  },
  {
   "cell_type": "code",
   "execution_count": null,
   "metadata": {},
   "outputs": [],
   "source": [
    "# display db entry for 2018 CL:\n",
    "display(df[df.designation == '2018 CL'])\n",
    "\n",
    "obj_name = '2018 CL'"
   ]
  },
  {
   "cell_type": "code",
   "execution_count": null,
   "metadata": {},
   "outputs": [],
   "source": [
    "obj = Horizons(id=obj_name, location=ZTF_code, \\\n",
    "               epochs={'start': '{}-{}-{}'.format(start_date[0:4], start_date[4:6], start_date[6:8]), \\\n",
    "               'stop': '{}-{}-{}'.format(end_date[0:4], end_date[4:6], end_date[6:8]), \\\n",
    "               'step': '1h'})\n",
    "\n",
    "eph = obj.ephemerides(skip_daylight=True, airmass_lessthan=5.0)\n",
    "if len(eph) <= 0:\n",
    "    print('object {} was not observable at Palomar'.format(obj_name))"
   ]
  },
  {
   "cell_type": "markdown",
   "metadata": {},
   "source": [
    "We also want to calculate the motion of the asteroid to see if it will show up as a streak in our images."
   ]
  },
  {
   "cell_type": "code",
   "execution_count": null,
   "metadata": {},
   "outputs": [],
   "source": [
    "rate = np.sqrt(eph['RA_rate']**2+eph['DEC_rate']**2)"
   ]
  },
  {
   "cell_type": "markdown",
   "metadata": {},
   "source": [
    "Now, since we just discovered the power of JPL Horizons... why don't we take a short detour and do something fun? Let's say, we want to see the predicted trajectory of 2018 CL..."
   ]
  },
  {
   "cell_type": "code",
   "execution_count": null,
   "metadata": {},
   "outputs": [],
   "source": [
    "fig = plt.figure()\n",
    "ax = fig.add_subplot(111)\n",
    "\n",
    "ax.plot(eph['RA'], eph['DEC'], 'o-')\n",
    "ax.set_title('trajectory of 2018 CL on from %s to %s' % (start_date, end_date))\n",
    "ax.set_xlabel('RA (deg)')\n",
    "ax.set_ylabel('DEC (deg)')\n",
    "\n",
    "for i, xy in enumerate(zip(eph['RA'], eph['DEC'])):\n",
    "    ax.annotate('%s' % eph['datetime_str'][i], xy=xy, textcoords='data')\n",
    "\n",
    "plt.show()"
   ]
  },
  {
   "cell_type": "markdown",
   "metadata": {},
   "source": [
    "What about the change of azimuth and elevation angle?"
   ]
  },
  {
   "cell_type": "code",
   "execution_count": null,
   "metadata": {},
   "outputs": [],
   "source": [
    "fig = plt.figure()\n",
    "ax = fig.add_subplot(111)\n",
    "\n",
    "ax.plot(eph['AZ'], eph['EL'], 'o-')\n",
    "ax.set_title('azimuth/elevation angle of 2018 CL on from %s to %s' % (start_date, end_date))\n",
    "ax.set_xlabel('Azimuth (deg)')\n",
    "ax.set_ylabel('Elevation (deg)')\n",
    "\n",
    "for i, xy in enumerate(zip(eph['AZ'], eph['EL'])):\n",
    "    ax.annotate('%s' % eph['datetime_str'][i], xy=xy, textcoords='data')\n",
    "\n",
    "plt.show()"
   ]
  },
  {
   "cell_type": "markdown",
   "metadata": {},
   "source": [
    "The complete lists of the values supported by `astroquery.jplhorizons` can be found [here](https://astroquery.readthedocs.io/en/latest/api/astroquery.jplhorizons.HorizonsClass.html#astroquery.jplhorizons.HorizonsClass.ephemerides). Play with it and be creative! For example, can you plot the change of RA/DEC rate over time? And what about the change of predicted V magnitude?"
   ]
  },
  {
   "cell_type": "markdown",
   "metadata": {},
   "source": [
    "Now let's come back to our main journey. How fast does the asteroid need to be in order to show up as a streak? Let's take anything longer than 5 full-width-half-maximum (FWHM) as a streak. We know the exposure time of ZTF is 30 seconds, and the typical FWHM is 2''. Therefore, the minimum rate of motion is not too difficult to calculate:"
   ]
  },
  {
   "cell_type": "code",
   "execution_count": null,
   "metadata": {},
   "outputs": [],
   "source": [
    "min_rate = 2*5/30\n",
    "\n",
    "print('minimum rate of motion for a streak: {:.2f} arcsec/sec.'.format(min_rate))"
   ]
  },
  {
   "cell_type": "markdown",
   "metadata": {},
   "source": [
    "If the object will be a fast-mover at some point within the time window being queried, we will use IPAC's Moving Object Search Tool (MOST) to get a list of the images that the object is a fast-mover on them."
   ]
  },
  {
   "cell_type": "code",
   "execution_count": null,
   "metadata": {},
   "outputs": [],
   "source": [
    "if max(rate) > min_rate:\n",
    "    params = {'catalog': 'ztf', 'input_type': 'name_input', 'obj_name': '{}'.format(obj_name), \\\n",
    "              'obs_begin': '{}-{}-{}'.format(start_date[0:4], start_date[4:6], start_date[6:8]), \\\n",
    "              'obs_end': '{}-{}-{}'.format(end_date[0:4], end_date[4:6], end_date[6:8]), \\\n",
    "              'output_mode': 'Brief'}\n",
    "    irsa_return = requests.get('https://irsa.ipac.caltech.edu/cgi-bin/MOST/nph-most', params=params)"
   ]
  },
  {
   "cell_type": "markdown",
   "metadata": {},
   "source": [
    "...and MOST did give us something, right?"
   ]
  },
  {
   "cell_type": "code",
   "execution_count": null,
   "metadata": {},
   "outputs": [],
   "source": [
    "from io import StringIO\n",
    "r = irsa_return.text.split(\"\\n\")\n",
    "r = [' '.join(rr.split())[0:] for rr in r]\n",
    "data_str = '\\n'.join(r[20:])\n",
    "# display(data_str)\n",
    "\n",
    "column_names = [cn.strip() for cn in r[18].split('|')[1:-1]]\n",
    "# display(column_names)\n",
    "\n",
    "dff = pd.read_csv(StringIO(data_str), sep=' ', parse_dates=[[22, 23]], header=None)\n",
    "column_names.remove('obsdate')\n",
    "dff.columns = ['obsdate'] + column_names\n",
    "dff"
   ]
  },
  {
   "cell_type": "markdown",
   "metadata": {},
   "source": [
    "Here is a loop over the query result from MOST to find out which images will contain the target as a fast-mover. Note that we want the predicted magnitude of the object to be <20 since that's the typical depth of ZTF."
   ]
  },
  {
   "cell_type": "code",
   "execution_count": null,
   "metadata": {},
   "outputs": [],
   "source": [
    "limiting_magnitude = 20"
   ]
  },
  {
   "cell_type": "markdown",
   "metadata": {},
   "source": [
    "We also make another query to Horizons to ensure the object is really a fast-mover on these dates. We do this as a double-check since Horizons produces the most precise ephemerides for NEAs. Horizons also tells us what the expected positional uncertainty will be. Obviously, we don't want the positional uncertainty to be too big -- say, over 20\"."
   ]
  },
  {
   "cell_type": "code",
   "execution_count": null,
   "metadata": {},
   "outputs": [],
   "source": [
    "max_unc = 20"
   ]
  },
  {
   "cell_type": "markdown",
   "metadata": {},
   "source": [
    "And then we print out all the metadata that are potentially useful. We will just return the first entry (or it will be a very long entry!)"
   ]
  },
  {
   "cell_type": "code",
   "execution_count": null,
   "metadata": {},
   "outputs": [],
   "source": [
    "w = dff.vmag < limiting_magnitude\n",
    "\n",
    "for index, row in dff.loc[w].iterrows():\n",
    "    obj_this = Horizons(id=obj_name, location=ZTF_code, epochs=row.obsjd)\n",
    "    eph = obj_this.ephemerides()\n",
    "    ztf_entry_rate = np.sqrt(eph['RA_rate'][0]**2 + eph['DEC_rate'][0]**2)\n",
    "\n",
    "    if ztf_entry_rate > min_rate:\n",
    "        ztf_entry_unc = np.sqrt(eph['RA_3sigma'][0]**2 + eph['DEC_3sigma'][0]**2)\n",
    "\n",
    "        if ztf_entry_unc < max_unc:\n",
    "            print('hit: object {}'.format(obj_name))\n",
    "\n",
    "            print('object name:', obj_name)\n",
    "            print('image date (UT):', row.obsdate)\n",
    "            print('fracday:', row.filefracday)\n",
    "            print('filter code:', row.filtercode)\n",
    "            print('distance to the Sun:', row.sun_dist, 'AU')\n",
    "            print('distance to the Earth:', row.geo_dist, 'AU')\n",
    "            print('predicted V magnitude:', row.vmag)\n",
    "            print('ecliptic latitude:', eph['ObsEclLat'][0])\n",
    "            print('positional uncertainty: {:.2f} arcsec'.format(ztf_entry_unc))\n",
    "\n",
    "            break"
   ]
  },
  {
   "cell_type": "markdown",
   "metadata": {},
   "source": [
    "Voila! You made it. Note that it takes quite a bit of time (a day or two) to loop over the entire NEA catalog -- this is because Horizons has to calculate the ephemerides for each of these ~15,000 NEAs and this is slow! Therefore, we provide a pre-generated result file for you to proceed to step 2. "
   ]
  },
  {
   "cell_type": "markdown",
   "metadata": {},
   "source": [
    "But do take a few known asteroids and see what you get for them. "
   ]
  },
  {
   "cell_type": "markdown",
   "metadata": {},
   "source": [
    "## Step 2: compare the catalog derived from step 1 to the source catalog generated by ZTF streak detection pipeline"
   ]
  },
  {
   "cell_type": "markdown",
   "metadata": {},
   "source": [
    "Let's read in the result of step 1... (OK, we cheated, it is pre-generated)"
   ]
  },
  {
   "cell_type": "code",
   "execution_count": null,
   "metadata": {},
   "outputs": [],
   "source": [
    "path_fmo = os.path.join(path_data, 'check_fmo.txt')\n",
    "check_fmo = np.genfromtxt(path_fmo, dtype=None, \\\n",
    "                          delimiter=(12, 10, 6, 10, 10, 10, 5, 10, 10, 10), \\\n",
    "                          encoding='utf-8',\n",
    "                          names=[\"object\", \"dateUT\", \"filter\", \"rate\", \"sundist\", \\\n",
    "                                \"geodist\", \"vmag\", \"ecllat\", \"unc\", \"fracday\"])[:-1]\n",
    "# convert to pandas dataframe\n",
    "df_check_fmo = pd.DataFrame(check_fmo)\n",
    "# comb object names:\n",
    "df_check_fmo['object'] = df_check_fmo['object'].str.strip()\n",
    "# compute jd's:\n",
    "df_check_fmo['jd'] = df_check_fmo['dateUT'].apply(lambda x: \n",
    "                                                  Time(datetime.datetime.strptime(str(x), '%Y%m%d')).jd)\n",
    "df_check_fmo['jd'] = df_check_fmo['jd'] + df_check_fmo['fracday']/1000000"
   ]
  },
  {
   "cell_type": "markdown",
   "metadata": {},
   "source": [
    "And also we read the source files from ZTF... essentially, these are a large number of \"streak_qa\" files, each file contains candidate streaks in one image. Apparently, we want to loop over them and see if there is any candidate that coincides the position of a known streaking NEA. We also record the rate and mag of detections and non-detections for diagnostic purposes.\n",
    "\n",
    "For a demonstration, let us pick one of them to show how this whole thing works. Let us start with our old friend, `2018 CL`."
   ]
  },
  {
   "cell_type": "code",
   "execution_count": null,
   "metadata": {},
   "outputs": [],
   "source": [
    "# for cfi in check_fmo:\n",
    "#     if cfi[0].strip() == '2018 CL':\n",
    "#         break\n",
    "ww = df_check_fmo.object == '2018 CL'\n",
    "# df_check_fmo.loc[ww, 'jd'].values\n",
    "df_check_fmo.loc[ww]"
   ]
  },
  {
   "cell_type": "markdown",
   "metadata": {},
   "source": [
    "What are the uncertainty ranges (in arcsec) for these entries?"
   ]
  },
  {
   "cell_type": "code",
   "execution_count": null,
   "metadata": {},
   "outputs": [],
   "source": [
    "df_check_fmo.loc[ww, 'unc'].values"
   ]
  },
  {
   "cell_type": "markdown",
   "metadata": {},
   "source": [
    "This is very precise! Well, we know it should be small because the orbit from JPL was calculated using ZTF observations :)\n",
    "\n",
    "Now, let us obtain the predicted coordinates for `2018 CL` at these epochs using what we have just learned in Step 1."
   ]
  },
  {
   "cell_type": "code",
   "execution_count": null,
   "metadata": {},
   "outputs": [],
   "source": [
    "expTimeJD = df_check_fmo.loc[ww, 'jd'].values\n",
    "expTimeJD"
   ]
  },
  {
   "cell_type": "code",
   "execution_count": null,
   "metadata": {},
   "outputs": [],
   "source": [
    "obj_this = Horizons(id=obj_name, location=ZTF_code, epochs=expTimeJD)\n",
    "eph = obj_this.ephemerides()\n",
    "\n",
    "eph"
   ]
  },
  {
   "cell_type": "markdown",
   "metadata": {},
   "source": [
    "A simplistic approach is to loop through each small folder generated by findStreaks and see if there is any candidate matching the predicted RA and DEC:"
   ]
  },
  {
   "cell_type": "code",
   "execution_count": null,
   "metadata": {},
   "outputs": [],
   "source": [
    "detectionRadius = 5/3600"
   ]
  },
  {
   "cell_type": "code",
   "execution_count": null,
   "metadata": {},
   "outputs": [],
   "source": [
    "path_streaks = os.path.join(path_data, 'run_merged', 'ztf*')\n",
    "d = sorted(glob.glob(path_streaks))\n",
    "# display(d)\n",
    "\n",
    "# let's look at the first epoch:\n",
    "targetRA = eph['RA'][0]\n",
    "targetDec = eph['DEC'][0]\n",
    "\n",
    "for di in d:\n",
    "    fileName = os.path.basename(di)\n",
    "    streaksQA_path = '{}/{}_streaksqa.txt'.format(di, fileName)\n",
    "    \n",
    "    if os.stat(streaksQA_path).st_size > 500:\n",
    "        try:\n",
    "            streaksQA = np.loadtxt(streaksQA_path, delimiter=',', comments='\\\\')\n",
    "            for streaksQA_item in streaksQA:\n",
    "                if (abs(streaksQA_item[1]-targetRA) < detectionRadius and \\\n",
    "                abs(streaksQA_item[2]-targetDec) < detectionRadius) or \\\n",
    "                (abs(streaksQA_item[3]-targetRA) < detectionRadius and \\\n",
    "                abs(streaksQA_item[4]-targetDec) < detectionRadius):\n",
    "                        print('YES! Streak found in', streaksQA_path)\n",
    "        except:\n",
    "            continue"
   ]
  },
  {
   "cell_type": "markdown",
   "metadata": {},
   "source": [
    "Wonderful! We have a hit! We can even take a look at the cutout to see what it looks like:"
   ]
  },
  {
   "cell_type": "code",
   "execution_count": null,
   "metadata": {},
   "outputs": [],
   "source": [
    "for di in d:\n",
    "    fileName = os.path.basename(di)\n",
    "            \n",
    "    streaksQA_path = '{}/{}_streaksqa.txt'.format(di, fileName)\n",
    "    \n",
    "    if os.stat(streaksQA_path).st_size > 500:\n",
    "        try:\n",
    "            streaksQA = np.loadtxt(streaksQA_path, delimiter=',', comments='\\\\')\n",
    "            for streaksQA_item in streaksQA:\n",
    "                if (abs(streaksQA_item[1]-targetRA) < detectionRadius and \\\n",
    "                    abs(streaksQA_item[2]-targetDec) < detectionRadius) or \\\n",
    "                    (abs(streaksQA_item[3]-targetRA) < detectionRadius and \\\n",
    "                    abs(streaksQA_item[4]-targetDec) < detectionRadius):\n",
    "                        folder_name = di.split('/')[-1]\n",
    "                        print(folder_name)\n",
    "                        path_jpgs = os.path.join(path_data, 'run_merged', \n",
    "                                                 folder_name, folder_name + '_cutouts', '*jpg')\n",
    "                        jpgs = glob.glob(path_jpgs)\n",
    "                        print(jpgs[0])\n",
    "                        display(Image_jupyter(filename = jpgs[0], width=157, height=157))\n",
    "        except:\n",
    "            continue"
   ]
  },
  {
   "cell_type": "markdown",
   "metadata": {},
   "source": [
    "Voila! Now, homework for you: can you use the example shown above to work out the detection efficiency of ZTF?"
   ]
  },
  {
   "cell_type": "markdown",
   "metadata": {},
   "source": [
    "## Step 3: run a light version of DeepStreaks [optional]"
   ]
  },
  {
   "cell_type": "markdown",
   "metadata": {},
   "source": [
    "`DeepStreaks` is a convolutional-neural-network, deep-learning system designed to efficiently identify streaking fast-moving near-Earth objects, detected in the ZTF data. \n",
    "\n",
    "For details, please see [Duev et al., MNRAS.486.4158D, 2019](https://academic.oup.com/mnras/article-abstract/486/3/4158/5472913), [arXiv:1904.05920](https://arxiv.org/pdf/1904.05920.pdf), and [this Github repo](https://github.com/dmitryduev/DeepStreaks).\n",
    "\n",
    "We will load a light version of DeepStreaks and run it on the streaks to see if they would have been identified. `DeepStreaks` is implemented using `Google`'s `TensorFlow` library, so we will need it for this part."
   ]
  },
  {
   "cell_type": "code",
   "execution_count": null,
   "metadata": {},
   "outputs": [],
   "source": [
    "#!pip install tensorflow\n",
    "import tensorflow as tf\n",
    "from PIL import Image, ImageOps"
   ]
  },
  {
   "cell_type": "code",
   "execution_count": null,
   "metadata": {},
   "outputs": [],
   "source": [
    "def load_model_helper(path, model_base_name):\n",
    "    # return load_model(path)\n",
    "    with open(os.path.join(path, f'{model_base_name}.architecture.json'), 'r') as json_file:\n",
    "        loaded_model_json = json_file.read()\n",
    "    m = tf.keras.models.model_from_json(loaded_model_json)\n",
    "    m.load_weights(os.path.join(path, f'{model_base_name}.weights.h5'))\n",
    "\n",
    "    return m"
   ]
  },
  {
   "cell_type": "markdown",
   "metadata": {},
   "source": [
    "`DeepStreaks` consists of three sets of binary classifiers: the first one (real/bogus or $rb$) decides if a particular cutout contains a steak-like object (which includes the actual streaks and cosmic rays, for example), the second (short/long or $sl$) decides if a streak is long (i.e. caused by something that moves too fast like a LEO satellite) or short, and the third (keep/ditch or $kd$) makes the final judgement. If all three parts output a score >0.5, a streak is designated as a plausible FMO candidate.\n",
    "\n",
    "Download models from Github if necessary:"
   ]
  },
  {
   "cell_type": "code",
   "execution_count": null,
   "metadata": {},
   "outputs": [],
   "source": [
    "model_names = {\n",
    "    \"rb_vgg6\": \"5b96af9c0354c9000b0aea36_VGG6_20181207_151757\",\n",
    "    \"sl_vgg6\": \"5b99b2c6aec3c500103a14de_VGG6_20181207_182618\",\n",
    "    \"kd_vgg6\": \"5be0ae7958830a0018821794_VGG6_20190210_011644\"\n",
    "}\n",
    "\n",
    "base_url = 'https://raw.githubusercontent.com/dmitryduev/DeepStreaks/master/service/models/'\n",
    "\n",
    "for model in model_names.keys():\n",
    "    print('fetching {}'.format(model))\n",
    "    for part in ('.architecture.json', '.weights.h5'):\n",
    "        r = requests.get(os.path.join(base_url, model_names[model] + part))\n",
    "        with open(os.path.join(path_data, model + part), 'wb') as f:\n",
    "            f.write(r.content)\n"
   ]
  },
  {
   "cell_type": "markdown",
   "metadata": {},
   "source": [
    "Load models:"
   ]
  },
  {
   "cell_type": "code",
   "execution_count": null,
   "metadata": {},
   "outputs": [],
   "source": [
    "models = {m: load_model_helper(path_data, m) for m in model_names.keys()}"
   ]
  },
  {
   "cell_type": "markdown",
   "metadata": {},
   "source": [
    "Now let us load the cutout image and resize it to the shape expected by the models."
   ]
  },
  {
   "cell_type": "code",
   "execution_count": null,
   "metadata": {},
   "outputs": [],
   "source": [
    "def load_cutout(path_image, resize=(144, 144)):\n",
    "    img = np.array(ImageOps.grayscale(Image.open(path_image)).resize(resize, Image.BILINEAR)) / 255.\n",
    "    img = np.expand_dims(img, 2)\n",
    "    return img"
   ]
  },
  {
   "cell_type": "code",
   "execution_count": null,
   "metadata": {},
   "outputs": [],
   "source": [
    "img = load_cutout(jpgs[0])\n",
    "img = np.expand_dims(img, 0)\n",
    "img.shape"
   ]
  },
  {
   "cell_type": "code",
   "execution_count": null,
   "metadata": {},
   "outputs": [],
   "source": [
    "for mn, m in models.items():\n",
    "    score = m.predict(img)\n",
    "    print('{} score: {:.2f}'.format(mn, score[0][0]))"
   ]
  },
  {
   "cell_type": "markdown",
   "metadata": {},
   "source": [
    "Great! This streak would have been successfully identified by `DeepStreaks`!"
   ]
  },
  {
   "cell_type": "markdown",
   "metadata": {},
   "source": [
    "#### Run `DeepStreaks` on some random streaks"
   ]
  },
  {
   "cell_type": "code",
   "execution_count": null,
   "metadata": {},
   "outputs": [],
   "source": [
    "path_jpgs = os.path.join(path_data, 'run_merged', '*', '*', '*jpg')\n",
    "cutouts = glob.glob(path_jpgs)\n",
    "\n",
    "# set a random seed for result repeatability\n",
    "np.random.seed(5)\n",
    "sample = np.random.choice(cutouts, size=10)\n",
    "# sample\n",
    "\n",
    "df_sample = pd.DataFrame.from_records([{'name': os.path.basename(ii)} for ii in sample])"
   ]
  },
  {
   "cell_type": "code",
   "execution_count": null,
   "metadata": {},
   "outputs": [],
   "source": [
    "for ni, ii in enumerate(sample):\n",
    "    print('{}: {}'.format(ni, os.path.basename(ii)))\n",
    "    display(Image_jupyter(filename=ii, width=157, height=157))"
   ]
  },
  {
   "cell_type": "code",
   "execution_count": null,
   "metadata": {},
   "outputs": [],
   "source": [
    "imgs = np.array([load_cutout(x) for x in sample])\n",
    "imgs.shape"
   ]
  },
  {
   "cell_type": "markdown",
   "metadata": {},
   "source": [
    "Let us now compute scores in batches and see if `DeepStreaks` would declare any of these streaks plausible candidates."
   ]
  },
  {
   "cell_type": "code",
   "execution_count": null,
   "metadata": {},
   "outputs": [],
   "source": [
    "for mn, m in models.items():\n",
    "    scores = m.predict(imgs)\n",
    "    df_sample[mn] = scores\n",
    "\n",
    "display(df_sample)\n",
    "\n",
    "print('Plausible candidates:')\n",
    "\n",
    "w = (df_sample['rb_vgg6'] > 0.5) & (df_sample['sl_vgg6'] > 0.5) & (df_sample['kd_vgg6'] > 0.5)\n",
    "display(df_sample.loc[w])"
   ]
  },
  {
   "cell_type": "markdown",
   "metadata": {},
   "source": [
    "Hooray! Streaks #4 and #8 were correctly identified!"
   ]
  }
 ],
 "metadata": {
  "kernelspec": {
   "display_name": "Python 3",
   "language": "python",
   "name": "python3"
  },
  "language_info": {
   "codemirror_mode": {
    "name": "ipython",
    "version": 3
   },
   "file_extension": ".py",
   "mimetype": "text/x-python",
   "name": "python",
   "nbconvert_exporter": "python",
   "pygments_lexer": "ipython3",
   "version": "3.6.5"
  }
 },
 "nbformat": 4,
 "nbformat_minor": 2
}
